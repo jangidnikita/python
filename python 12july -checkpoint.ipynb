{
 "cells": [
  {
   "cell_type": "code",
   "execution_count": 1,
   "id": "545e4b05",
   "metadata": {},
   "outputs": [
    {
     "name": "stdout",
     "output_type": "stream",
     "text": [
      "5\n"
     ]
    }
   ],
   "source": [
    "input_string=\"I am from Ajmer and you\"\n",
    "space_count=0\n",
    "for i in input_string:\n",
    "    if(i.isspace()):\n",
    "        space_count+=1\n",
    "print(space_count)"
   ]
  },
  {
   "cell_type": "code",
   "execution_count": 2,
   "id": "950cd12b",
   "metadata": {},
   "outputs": [
    {
     "name": "stdout",
     "output_type": "stream",
     "text": [
      "enter a valuepuja\n",
      "enter a valuepuja\n",
      "equal\n",
      "4\n"
     ]
    }
   ],
   "source": [
    "a=input(\"enter a value\")\n",
    "b=input(\"enter a value\")\n",
    "counter=0\n",
    "for i in range(0,len(a)):\n",
    "    if(a[i]==b[i]):\n",
    "        counter=counter+1\n",
    "if(len(a)==counter and len(b)==counter):\n",
    "    print(\"equal\")\n",
    "else:\n",
    "    print(\"not equal\")\n",
    "print(counter)"
   ]
  },
  {
   "cell_type": "code",
   "execution_count": 5,
   "id": "4272f900",
   "metadata": {},
   "outputs": [
    {
     "name": "stdout",
     "output_type": "stream",
     "text": [
      "enter year2045\n",
      "5 not a even number\n"
     ]
    }
   ],
   "source": [
    "year=int(input(\"enter year\"))\n",
    "last_digit=int(str(year)[-1])\n",
    "if(last_digit%2==0):\n",
    "    print(\"even number\",last_digit)\n",
    "    if(year%4==0):\n",
    "        print(\"leap year\")\n",
    "    else:\n",
    "        print(\"not a leap year\")\n",
    "else:\n",
    "        print(last_digit,\"not a even number\")"
   ]
  },
  {
   "cell_type": "code",
   "execution_count": null,
   "id": "b1175b13",
   "metadata": {},
   "outputs": [],
   "source": []
  },
  {
   "cell_type": "code",
   "execution_count": null,
   "id": "175d8917",
   "metadata": {},
   "outputs": [],
   "source": []
  }
 ],
 "metadata": {
  "kernelspec": {
   "display_name": "Python 3 (ipykernel)",
   "language": "python",
   "name": "python3"
  },
  "language_info": {
   "codemirror_mode": {
    "name": "ipython",
    "version": 3
   },
   "file_extension": ".py",
   "mimetype": "text/x-python",
   "name": "python",
   "nbconvert_exporter": "python",
   "pygments_lexer": "ipython3",
   "version": "3.11.4"
  }
 },
 "nbformat": 4,
 "nbformat_minor": 5
}
