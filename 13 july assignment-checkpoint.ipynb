{
 "cells": [
  {
   "cell_type": "code",
   "execution_count": 30,
   "id": "11020bdb",
   "metadata": {},
   "outputs": [
    {
     "name": "stdout",
     "output_type": "stream",
     "text": [
      "1 \n",
      "1 2 \n",
      "1 2 3 \n",
      "1 2 3 4 \n"
     ]
    }
   ],
   "source": [
    "for i in range(0, 4):\n",
    "    num =1\n",
    "    for j in range(0, i+1):\n",
    "        print(num, end=\" \")\n",
    "        num = num + 1\n",
    "    print()"
   ]
  },
  {
   "cell_type": "code",
   "execution_count": 5,
   "id": "6ff96b1b",
   "metadata": {},
   "outputs": [
    {
     "name": "stdout",
     "output_type": "stream",
     "text": [
      "1 \n",
      "2 3 \n",
      "4 5 6 \n",
      "7 8 9 10 \n"
     ]
    }
   ],
   "source": [
    "n = 1\n",
    "for i in range(0, 4):\n",
    "    for j in range(0, i+1):\n",
    "        print(n, end=\" \")\n",
    "        n = n + 1\n",
    "    print()"
   ]
  },
  {
   "cell_type": "code",
   "execution_count": 17,
   "id": "778f89fa",
   "metadata": {},
   "outputs": [
    {
     "name": "stdout",
     "output_type": "stream",
     "text": [
      "A \n",
      "B C \n",
      "D E F \n",
      "G H I J \n"
     ]
    }
   ],
   "source": [
    "value = 65\n",
    "for i in range(0,4):\n",
    "    for j in range(0, i+1):\n",
    "        ch = chr(value)\n",
    "        print(ch, end=\" \")\n",
    "        value = value + 1\n",
    "    print()"
   ]
  },
  {
   "cell_type": "code",
   "execution_count": 35,
   "id": "7b590cd7",
   "metadata": {},
   "outputs": [
    {
     "name": "stdout",
     "output_type": "stream",
     "text": [
      "    *\n",
      "   **\n",
      "  ***\n",
      " ****\n",
      "*****\n"
     ]
    }
   ],
   "source": [
    "for i in range(5):\n",
    "    for j in range(1,5-i):\n",
    "        print(\" \",end=\"\")\n",
    "    for k in range(0,i+1):\n",
    "        print(\"*\",end=\"\")\n",
    "    print()"
   ]
  },
  {
   "cell_type": "code",
   "execution_count": 36,
   "id": "13e33fac",
   "metadata": {},
   "outputs": [
    {
     "name": "stdout",
     "output_type": "stream",
     "text": [
      "*****\n",
      " ****\n",
      "  ***\n",
      "   **\n",
      "    *\n"
     ]
    }
   ],
   "source": [
    "for i in range(5):\n",
    "    for j in range(i):\n",
    "        print(\" \",end=\"\")\n",
    "    for j in range(5,i,-1):\n",
    "        print(\"*\",end=\"\")\n",
    "    print()"
   ]
  },
  {
   "cell_type": "code",
   "execution_count": 40,
   "id": "43977f13",
   "metadata": {},
   "outputs": [
    {
     "name": "stdout",
     "output_type": "stream",
     "text": [
      "A\n",
      "AB\n",
      "ABC\n",
      "ABCD\n"
     ]
    }
   ],
   "source": [
    "n=4\n",
    "for i in range(n):\n",
    "    for j in range(i+1):\n",
    "        print(chr(j+65),end=\"\")\n",
    "    print()"
   ]
  },
  {
   "cell_type": "code",
   "execution_count": 44,
   "id": "86b49bdf",
   "metadata": {},
   "outputs": [
    {
     "name": "stdout",
     "output_type": "stream",
     "text": [
      "1  \n",
      "2 3  \n",
      "4 5 6  \n",
      "7 8 9 10  \n",
      "11 12 13 14 15  \n"
     ]
    }
   ],
   "source": [
    "n=1\n",
    "for  i in range(0,5):\n",
    "    for j in range(0,i+1):\n",
    "        print(n,end=\" \")\n",
    "        n+=1\n",
    "    print(\" \")\n",
    "        "
   ]
  },
  {
   "cell_type": "code",
   "execution_count": 45,
   "id": "ebadae75",
   "metadata": {},
   "outputs": [
    {
     "name": "stdout",
     "output_type": "stream",
     "text": [
      "   \n",
      "   \n",
      "   *\n",
      "   **\n",
      "   ***\n"
     ]
    }
   ],
   "source": [
    "for i in range(5):\n",
    "    for j in range(1,5-1):\n",
    "        print(\" \",end=\"\")\n",
    "    for k in range (0,i-1):\n",
    "        print(\"*\",end=\"\")\n",
    "    print()"
   ]
  },
  {
   "cell_type": "code",
   "execution_count": 50,
   "id": "b6ec5bf7",
   "metadata": {},
   "outputs": [
    {
     "name": "stdout",
     "output_type": "stream",
     "text": [
      "enter the character pattern:\n",
      "A \n",
      "B C \n",
      "D E F \n",
      "G H I J \n",
      "K L M N O \n",
      "P Q R S T U \n"
     ]
    }
   ],
   "source": [
    "print(\"enter the character pattern:\")\n",
    "asscivalue=65\n",
    "for i in range(0,6):\n",
    "    for j in range(0,i+1):\n",
    "        alphabate=chr(asscivalue)\n",
    "        print(alphabate,end=\" \")\n",
    "        asscivalue += 1\n",
    "    print()"
   ]
  },
  {
   "cell_type": "code",
   "execution_count": 2,
   "id": "df4d7b81",
   "metadata": {},
   "outputs": [
    {
     "name": "stdout",
     "output_type": "stream",
     "text": [
      "int_list= [1, 2, 3, 4]\n",
      "str_list= ['a', 'b', 'c', 'd']\n"
     ]
    }
   ],
   "source": [
    "My_list = [1, 2, 'a', 'b', 3, 4, 'c', 'd']\n",
    "int_list=[]\n",
    "str_list=[]\n",
    "for item in My_list:\n",
    "    if type(item)==int:\n",
    "        int_list.append(item)\n",
    "    else:\n",
    "        str_list.append(item)\n",
    "print(\"int_list=\",int_list)\n",
    "print(\"str_list=\",str_list)\n"
   ]
  },
  {
   "cell_type": "code",
   "execution_count": 3,
   "id": "85479311",
   "metadata": {},
   "outputs": [
    {
     "name": "stdout",
     "output_type": "stream",
     "text": [
      "int_list [1, 2, 3, 4]\n",
      "int_list ['a', 'b', 'c', 'd', 'd']\n"
     ]
    }
   ],
   "source": [
    "str_list.append(item)\n",
    "print(\"int_list\",int_list)\n",
    "print(\"int_list\",str_list)\n"
   ]
  },
  {
   "cell_type": "code",
   "execution_count": 8,
   "id": "159264fa",
   "metadata": {},
   "outputs": [
    {
     "name": "stdout",
     "output_type": "stream",
     "text": [
      "gytf\n",
      "hikj\n",
      "huygy\n",
      "oity\n"
     ]
    }
   ],
   "source": [
    "My_list=['abc','gytf','hikj','huygy','oity']\n",
    "for item in My_list:\n",
    "    if len(item)>3:\n",
    "        print(item)\n",
    "        "
   ]
  },
  {
   "cell_type": "code",
   "execution_count": 10,
   "id": "1e2ee47e",
   "metadata": {},
   "outputs": [
    {
     "name": "stdout",
     "output_type": "stream",
     "text": [
      "2\n",
      "4\n",
      "6\n",
      "8\n",
      "14\n"
     ]
    }
   ],
   "source": [
    "My_list = [1,2,'a','b',3,4,'c',7,'d']\n",
    "for item in My_list:\n",
    "    if type (item)==int:\n",
    "        print(item*2)"
   ]
  },
  {
   "cell_type": "code",
   "execution_count": null,
   "id": "9abb7a24",
   "metadata": {},
   "outputs": [],
   "source": []
  }
 ],
 "metadata": {
  "kernelspec": {
   "display_name": "Python 3 (ipykernel)",
   "language": "python",
   "name": "python3"
  },
  "language_info": {
   "codemirror_mode": {
    "name": "ipython",
    "version": 3
   },
   "file_extension": ".py",
   "mimetype": "text/x-python",
   "name": "python",
   "nbconvert_exporter": "python",
   "pygments_lexer": "ipython3",
   "version": "3.11.4"
  }
 },
 "nbformat": 4,
 "nbformat_minor": 5
}
