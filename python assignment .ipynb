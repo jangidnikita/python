{
 "cells": [
  {
   "cell_type": "code",
   "execution_count": 1,
   "id": "c55202fd",
   "metadata": {},
   "outputs": [
    {
     "name": "stdout",
     "output_type": "stream",
     "text": [
      "7\n",
      "14\n",
      "21\n",
      "28\n",
      "35\n",
      "42\n",
      "49\n",
      "56\n",
      "63\n",
      "70\n",
      "77\n",
      "84\n",
      "91\n",
      "98\n"
     ]
    }
   ],
   "source": [
    "#find out all no. which is divisible by 7 between 1 to 100\n",
    ">>> for num in range (1,100):\n",
    "...     if(num%7==0):\n",
    "...         print(num)\n"
   ]
  },
  {
   "cell_type": "code",
   "execution_count": 26,
   "id": "ea98531f",
   "metadata": {},
   "outputs": [
    {
     "name": "stdout",
     "output_type": "stream",
     "text": [
      "1 e\n",
      "3 e\n",
      "5  \n"
     ]
    }
   ],
   "source": [
    "str=\"Regex \"\n",
    "for index in range (0,len(str)):\n",
    "    if(index%2!=0):\n",
    "        print(index,str[index])\n",
    "    \n",
    "        "
   ]
  },
  {
   "cell_type": "code",
   "execution_count": 3,
   "id": "011436a2",
   "metadata": {},
   "outputs": [
    {
     "name": "stdout",
     "output_type": "stream",
     "text": [
      "63\n"
     ]
    }
   ],
   "source": [
    " #find out all no. which is divisible by 7 and 9 between 1 to 100\n",
    ">>> for num in range (1,100):\n",
    "...     if(num%7==0 and num%9==0):\n",
    "...         print(num)"
   ]
  },
  {
   "cell_type": "code",
   "execution_count": 8,
   "id": "d5673bf4",
   "metadata": {},
   "outputs": [
    {
     "name": "stdout",
     "output_type": "stream",
     "text": [
      "enter a string:pooja\n",
      "the number of consonant: 1\n",
      "the number of consonant: 1\n",
      "the number of consonant: 1\n",
      "the number of consonant: 2\n",
      "the number of consonant: 2\n"
     ]
    }
   ],
   "source": [
    "#find total no. of consonant in string\n",
    ">>> str= input(\"enter a string:\")\n",
    "consonant=0\n",
    "string = str.lower()\n",
    ">>> for i in range(0,len(string)):\n",
    "...     if string[i]not in (\"a\",\"e\",\"i\",\"o\",\"u\"):\n",
    "...         consonant=consonant+1\n",
    "...     print(\"the number of consonant:\",consonant)"
   ]
  },
  {
   "cell_type": "code",
   "execution_count": 9,
   "id": "161f20b2",
   "metadata": {},
   "outputs": [
    {
     "name": "stdout",
     "output_type": "stream",
     "text": [
      "variable is greater than 20\n",
      "variable is greater than 23\n",
      "variable is less than 40\n"
     ]
    }
   ],
   "source": [
    "#take a variable and find out certain condition\n",
    "var=30\n",
    "if(var>20):\n",
    "    print(\"variable is greater than 20\")\n",
    "if(var>23):\n",
    "    print(\"variable is greater than 23\")\n",
    "if(var>30 and var<40):\n",
    "    print(\"variable is greater than 30\")\n",
    "else:\n",
    "    print(\"variable is less than 40\")\n",
    "    "
   ]
  },
  {
   "cell_type": "code",
   "execution_count": 10,
   "id": "46d22d1c",
   "metadata": {},
   "outputs": [
    {
     "name": "stdout",
     "output_type": "stream",
     "text": [
      "condition not satisfied\n"
     ]
    }
   ],
   "source": [
    "#take input of two numbers and check num1 is divisible by 4 or not and num2 or not and num2 is divisible by 6 or not\n",
    "num1=66\n",
    "num2=88\n",
    "if(num1%4==0 and num2%6==0):\n",
    "    print(\"num1 is divisible by 4 and num2 is divisible by 6\")\n",
    "elif(num1%4==0 and num2%6!=0):\n",
    "    print(\"num1 is divisible by 4 and num2 is not divisible by 6\")\n",
    "elif(num1%4!=0 and num2%6==0):\n",
    "    print(\"num1 is not divisible by 4 and num2 is divisible by 6\")\n",
    "else:\n",
    "    print(\"condition not satisfied\")\n",
    "    "
   ]
  },
  {
   "cell_type": "code",
   "execution_count": 45,
   "id": "fb1170ee",
   "metadata": {},
   "outputs": [
    {
     "name": "stdout",
     "output_type": "stream",
     "text": [
      "enter a number123\n"
     ]
    },
    {
     "ename": "TypeError",
     "evalue": "'str' object is not callable",
     "output_type": "error",
     "traceback": [
      "\u001b[1;31m---------------------------------------------------------------------------\u001b[0m",
      "\u001b[1;31mTypeError\u001b[0m                                 Traceback (most recent call last)",
      "Cell \u001b[1;32mIn[45], line 3\u001b[0m\n\u001b[0;32m      1\u001b[0m \u001b[38;5;66;03m#check given number is divisible by 3 or not\u001b[39;00m\n\u001b[0;32m      2\u001b[0m a\u001b[38;5;241m=\u001b[39m\u001b[38;5;28mint\u001b[39m(\u001b[38;5;28minput\u001b[39m(\u001b[38;5;124m\"\u001b[39m\u001b[38;5;124menter a number\u001b[39m\u001b[38;5;124m\"\u001b[39m))\n\u001b[1;32m----> 3\u001b[0m b\u001b[38;5;241m=\u001b[39m\u001b[38;5;28msum\u001b[39m(\u001b[38;5;28mint\u001b[39m(digit)\u001b[38;5;28;01mfor\u001b[39;00m digit \u001b[38;5;129;01min\u001b[39;00m \u001b[38;5;28;43mstr\u001b[39;49m\u001b[43m \u001b[49m\u001b[43m(\u001b[49m\u001b[43ma\u001b[49m\u001b[43m)\u001b[49m)\n\u001b[0;32m      4\u001b[0m \u001b[38;5;28mint\u001b[39m\u001b[38;5;241m=\u001b[39m\u001b[38;5;28mstr\u001b[39m\n\u001b[0;32m      5\u001b[0m \u001b[38;5;28mprint\u001b[39m(b)\n",
      "\u001b[1;31mTypeError\u001b[0m: 'str' object is not callable"
     ]
    }
   ],
   "source": [
    "#check given number is divisible by 3 or not\n",
    "a=int(input(\"enter a number\"))\n",
    "b=sum(int(digit)for digit in str (a))\n",
    "print(b)\n",
    "if b%3==0:\n",
    "    print(\"num is divisible by 3\")\n",
    "else:\n",
    "    print(\"num is not divisible by 3\")\n",
    "        \n",
    "    "
   ]
  },
  {
   "cell_type": "code",
   "execution_count": 46,
   "id": "1052cb61",
   "metadata": {},
   "outputs": [
    {
     "name": "stdout",
     "output_type": "stream",
     "text": [
      "7\n",
      "14\n",
      "21\n",
      "28\n",
      "35\n",
      "42\n",
      "49\n",
      "56\n",
      "63\n",
      "70\n",
      "77\n",
      "84\n",
      "91\n",
      "98\n"
     ]
    }
   ],
   "source": [
    "for i in range (1,100):\n",
    "    if(i%7==0):\n",
    "        print(i)\n",
    "        "
   ]
  },
  {
   "cell_type": "code",
   "execution_count": null,
   "id": "6a7290ef",
   "metadata": {},
   "outputs": [],
   "source": []
  },
  {
   "cell_type": "code",
   "execution_count": null,
   "id": "5b5b260f",
   "metadata": {},
   "outputs": [],
   "source": []
  }
 ],
 "metadata": {
  "kernelspec": {
   "display_name": "Python 3 (ipykernel)",
   "language": "python",
   "name": "python3"
  },
  "language_info": {
   "codemirror_mode": {
    "name": "ipython",
    "version": 3
   },
   "file_extension": ".py",
   "mimetype": "text/x-python",
   "name": "python",
   "nbconvert_exporter": "python",
   "pygments_lexer": "ipython3",
   "version": "3.11.4"
  }
 },
 "nbformat": 4,
 "nbformat_minor": 5
}
